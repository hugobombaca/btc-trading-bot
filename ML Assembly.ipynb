{
 "cells": [
  {
   "cell_type": "code",
   "execution_count": 3,
   "metadata": {},
   "outputs": [],
   "source": [
    "import tensorflow as tf\n",
    "import keras_tuner as kt\n",
    "import matplotlib.pyplot as plt\n",
    "import datetime\n",
    "import numpy as np\n",
    "import matplotlib.dates as mdates\n",
    "from datetime import datetime, timedelta\n",
    "import seaborn as sns\n",
    "from pandas.plotting import register_matplotlib_converters\n",
    "from sklearn.model_selection import train_test_split\n",
    "from sklearn.preprocessing import MinMaxScaler,StandardScaler\n",
    "from keras.models import Sequential\n",
    "from keras.layers import Dense, LSTM, Dropout,BatchNormalization\n",
    "import warnings\n",
    "import pandas as pd\n",
    "pd.set_option(\"display.max_columns\", None)\n",
    "from tensorflow.keras.callbacks import ReduceLROnPlateau,EarlyStopping\n",
    "from keras.regularizers import l2\n",
    "import time\n",
    "from keras.optimizers import Adam\n",
    "warnings.filterwarnings(\"ignore\")\n",
    "\n"
   ]
  },
  {
   "cell_type": "code",
   "execution_count": 4,
   "metadata": {},
   "outputs": [],
   "source": [
    "df = pd.read_pickle(\"df.pkl\")\n",
    "df.set_index(\"Date\", inplace=True)\n",
    "holder = df.pop(\"signal\")"
   ]
  },
  {
   "cell_type": "code",
   "execution_count": 5,
   "metadata": {},
   "outputs": [],
   "source": [
    "scaler = StandardScaler()\n",
    "scaled_data = scaler.fit_transform(df)\n",
    "scaled_data = pd.DataFrame(scaled_data, columns=df.columns)\n",
    "scaled_data[\"signal\"] = holder.values\n",
    "scaled_data = np.array(scaled_data)"
   ]
  },
  {
   "cell_type": "code",
   "execution_count": 6,
   "metadata": {},
   "outputs": [],
   "source": [
    "def reshape(df,candles):\n",
    "    num_cols = df.shape[1]-1\n",
    "    arr = []\n",
    "    for j in range(num_cols):\n",
    "        arr.append([])\n",
    "        for i in range(candles,df.shape[0]):\n",
    "            arr[j].append(df[i-candles:i,j])\n",
    "    arr = np.moveaxis(arr,[0],[2])\n",
    "    arr,yi = np.array(arr),np.array(df[candles:,-1])\n",
    "    y=np.reshape(yi,(len(yi),1))\n",
    "    return arr,y"
   ]
  },
  {
   "cell_type": "code",
   "execution_count": 7,
   "metadata": {},
   "outputs": [],
   "source": [
    "candles = 30\n",
    "X_std,Y_std = reshape(scaled_data,candles)"
   ]
  },
  {
   "cell_type": "code",
   "execution_count": 8,
   "metadata": {},
   "outputs": [],
   "source": [
    "splitlitmit = int(len(scaled_data)*0.8)\n",
    "x_train_std,x_test_std = X_std[:splitlitmit],X_std[splitlitmit:]\n",
    "y_train_std,y_test_std = Y_std[:splitlitmit],Y_std[splitlitmit:]"
   ]
  },
  {
   "cell_type": "code",
   "execution_count": 9,
   "metadata": {},
   "outputs": [
    {
     "name": "stdout",
     "output_type": "stream",
     "text": [
      "(2646281, 30, 22) (2646281, 1) (661541, 30, 22) (661541, 1)\n"
     ]
    }
   ],
   "source": [
    "print(x_train_std.shape,y_train_std.shape,x_test_std.shape,y_test_std.shape)"
   ]
  },
  {
   "cell_type": "code",
   "execution_count": 10,
   "metadata": {},
   "outputs": [
    {
     "name": "stdout",
     "output_type": "stream",
     "text": [
      "\u001b[1m41349/41349\u001b[0m \u001b[32m━━━━━━━━━━━━━━━━━━━━\u001b[0m\u001b[37m\u001b[0m \u001b[1m303s\u001b[0m 7ms/step - accuracy: 0.8852 - loss: 0.3566 - val_accuracy: 0.8919 - val_loss: 0.3002 - learning_rate: 0.0500\n",
      "Restoring model weights from the end of the best epoch: 1.\n",
      "-----------------------------------------------------------------\n",
      "Training was completed in 316.92 secs\n",
      "-----------------------------------------------------------------\n",
      "Train accuracy: 89.0563%\n",
      "Test accuracy: 89.1895%\n"
     ]
    }
   ],
   "source": [
    "# Define constants\n",
    "LAYERS = [8, 8, 1]  # Reduced to 2 LSTM layers and 1 output layer\n",
    "EPOCHS = 1\n",
    "LR = 5e-2\n",
    "N = x_train_std.shape[2]\n",
    "# Build the model\n",
    "model = Sequential([\n",
    "    LSTM(units=LAYERS[0], activation=\"tanh\", recurrent_activation=\"hard_sigmoid\",\n",
    "         kernel_regularizer=l2(LR), recurrent_regularizer=l2(LR), dropout=0.2,\n",
    "         recurrent_dropout=0.2, return_sequences=True, input_shape=(candles, N)),\n",
    "    LSTM(units=LAYERS[1], activation=\"tanh\", recurrent_activation=\"hard_sigmoid\",\n",
    "         kernel_regularizer=l2(LR), recurrent_regularizer=l2(LR), dropout=0.2,\n",
    "         recurrent_dropout=0.2, return_sequences=False),\n",
    "    Dense(units=LAYERS[2], activation=\"sigmoid\")\n",
    "])\n",
    "\n",
    "# Compile the model\n",
    "model.compile(loss=\"binary_crossentropy\", optimizer=Adam(learning_rate=LR), metrics=[\"accuracy\"])\n",
    "\n",
    "# Define callbacks\n",
    "lr_decay = ReduceLROnPlateau(monitor=\"loss\", patience=1, verbose=1, factor=0.5, min_lr=1e-8)\n",
    "early_stop = EarlyStopping(monitor=\"val_accuracy\", patience=10, verbose=1, mode=\"auto\",\n",
    "                           baseline=0, restore_best_weights=True)\n",
    "\n",
    "# Train the model\n",
    "start_time = time.time()\n",
    "history = model.fit(x_train_std, y_train_std, epochs=EPOCHS, batch_size=64, \n",
    "                    validation_data=(x_test_std, y_test_std), callbacks=[lr_decay, early_stop], verbose=1)\n",
    "training_time = time.time() - start_time\n",
    "\n",
    "# Evaluate the model\n",
    "train_loss, train_acc = model.evaluate(x_train_std, y_train_std, verbose=0)\n",
    "test_loss, test_acc = model.evaluate(x_test_std, y_test_std, verbose=0)\n",
    "\n",
    "# Print results\n",
    "print(\"-\" * 65)\n",
    "print(f\"Training was completed in {training_time:.2f} secs\")\n",
    "print(\"-\" * 65)\n",
    "print(f\"Train accuracy: {train_acc * 100:.4f}%\")\n",
    "print(f\"Test accuracy: {test_acc * 100:.4f}%\")\n"
   ]
  },
  {
   "cell_type": "code",
   "execution_count": 11,
   "metadata": {},
   "outputs": [
    {
     "name": "stdout",
     "output_type": "stream",
     "text": [
      "\u001b[1m20674/20674\u001b[0m \u001b[32m━━━━━━━━━━━━━━━━━━━━\u001b[0m\u001b[37m\u001b[0m \u001b[1m35s\u001b[0m 2ms/step\n"
     ]
    }
   ],
   "source": [
    "y_predict = model.predict(x_test_std)"
   ]
  },
  {
   "cell_type": "code",
   "execution_count": 13,
   "metadata": {},
   "outputs": [],
   "source": [
    "threshold = 0.5\n",
    "binary_predictions = [1 if p >= threshold else 0 for p in y_predict]"
   ]
  },
  {
   "cell_type": "code",
   "execution_count": 16,
   "metadata": {},
   "outputs": [],
   "source": [
    "binary_predictions = pd.DataFrame(binary_predictions)"
   ]
  },
  {
   "cell_type": "code",
   "execution_count": 18,
   "metadata": {},
   "outputs": [
    {
     "data": {
      "text/plain": [
       "0\n",
       "0    362731\n",
       "1    298810\n",
       "Name: count, dtype: int64"
      ]
     },
     "execution_count": 18,
     "metadata": {},
     "output_type": "execute_result"
    }
   ],
   "source": [
    "binary_predictions.value_counts()"
   ]
  },
  {
   "cell_type": "code",
   "execution_count": 21,
   "metadata": {},
   "outputs": [],
   "source": [
    "model.save(\"btc_ml_model.keras\")"
   ]
  }
 ],
 "metadata": {
  "kernelspec": {
   "display_name": "final_prj",
   "language": "python",
   "name": "python3"
  },
  "language_info": {
   "codemirror_mode": {
    "name": "ipython",
    "version": 3
   },
   "file_extension": ".py",
   "mimetype": "text/x-python",
   "name": "python",
   "nbconvert_exporter": "python",
   "pygments_lexer": "ipython3",
   "version": "3.12.2"
  }
 },
 "nbformat": 4,
 "nbformat_minor": 2
}
